{
  "nbformat": 4,
  "nbformat_minor": 0,
  "metadata": {
    "colab": {
      "provenance": [],
      "authorship_tag": "ABX9TyOiwLq2dmluRtYfS/0KE8W6",
      "include_colab_link": true
    },
    "kernelspec": {
      "name": "python3",
      "display_name": "Python 3"
    },
    "language_info": {
      "name": "python"
    }
  },
  "cells": [
    {
      "cell_type": "markdown",
      "metadata": {
        "id": "view-in-github",
        "colab_type": "text"
      },
      "source": [
        "<a href=\"https://colab.research.google.com/github/SyedBabarMehmoodZaidi/mad_libs/blob/main/mad_libs.ipynb\" target=\"_parent\"><img src=\"https://colab.research.google.com/assets/colab-badge.svg\" alt=\"Open In Colab\"/></a>"
      ]
    },
    {
      "cell_type": "code",
      "source": [
        "def mad_libs():\n",
        "  print(\"Welcome To Madlibs: Clever Crow\")\n",
        "  print(\"Fill in the blanks to complete the story\")\n",
        "\n",
        "  #taking user input\n",
        "  adjective1 = input(\"Enter an adjective: \") #clever\n",
        "  noun1 = input(\"Enter a noun: \")#food\n",
        "  noun2 = input(\"Enter a noun: \")#dog\n",
        "  solid = input(\"Enter a solid: \")#bread\n",
        "  adjective2 = input(\"Enter an adjective: \") #sleeping\n",
        "  adjective1 = input(\"Enter an adjective: \") #clever\n",
        "  adjective1 = input(\"Enter an adjective: \") #clever\n",
        "  solid = input(\"Enter a solid: \")#bread\n",
        "  solid = input(\"Enter a solid: \")#bread\n",
        "\n",
        "\n",
        "  #story template\n",
        "  story = f\"\"\"\n",
        "  Once upon a time, a {adjective1} crow was very hungry. It searched everywhere for {noun1} ,but couldn't find any.\n",
        "  Finally it found {noun2} with a piece of {solid} near a {adjective2} dog. But he knew he couldn't take it by force.\n",
        "  Then the {adjective1} crow started shouting. The dog woke up annoyed. \"why the noise?\"\n",
        "  \"I saw another dog with a bigger piece of {solid},\"Crow said.\n",
        "\n",
        "  Greedy, the dog ran off to find it. The moment he was gone, Crow grabbed the {solid} and flew the safety.\"\n",
        "  \"\"\"\n",
        "\n",
        "  #Display the complete story\n",
        "\n",
        "  print(\"\\nHere is the mad libs story:\")\n",
        "  print(story)\n",
        "\n",
        "#Run the Story\n",
        "mad_libs()\n",
        "\n"
      ],
      "metadata": {
        "colab": {
          "base_uri": "https://localhost:8080/"
        },
        "id": "4UyhK_3fvvcF",
        "outputId": "fd55f55d-5690-492d-8e26-316534e6b1d2"
      },
      "execution_count": 5,
      "outputs": [
        {
          "output_type": "stream",
          "name": "stdout",
          "text": [
            "Welcome To Madlibs: Clever Crow\n",
            "Fill in the blanks to complete the story\n",
            "Enter an adjective: clever\n",
            "Enter a noun: food \n",
            "Enter a noun: dog\n",
            "Enter a solid: bread\n",
            "Enter an adjective: sleeping\n",
            "Enter an adjective: clever\n",
            "Enter an adjective: clever\n",
            "Enter a solid: bread\n",
            "Enter a solid: bread\n",
            "\n",
            "Here is the mad libs story:\n",
            "\n",
            "  Once upon a time, a clever crow was very hungry. It searched everywhere for food  ,but couldn't find any.\n",
            "  Finally it found dog with a piece of bread near a sleeping dog. But he knew he couldn't take it by force.\n",
            "  Then the clever crow started shouting. The dog woke up annoyed. \"why the noise?\"\n",
            "  \"I saw another dog with a bigger piece of bread,\"Crow said. \n",
            "  \n",
            "  Greedy, the dog ran off to find it. The moment he was gone, Crow grabbed the bread and flew the safety.\"      \n",
            "  \n"
          ]
        }
      ]
    }
  ]
}